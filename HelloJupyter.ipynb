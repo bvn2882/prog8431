{
 "cells": [
  {
   "cell_type": "markdown",
   "id": "f3cfc8cf",
   "metadata": {},
   "source": [
    "### Hello Jupyter\n",
    "### By JIho Jun"
   ]
  },
  {
   "cell_type": "code",
   "execution_count": null,
   "id": "b7d79c60",
   "metadata": {},
   "outputs": [],
   "source": [
    "#demo code\n",
    "print(\"hello Jupyter\")"
   ]
  }
 ],
 "metadata": {
  "language_info": {
   "name": "python"
  }
 },
 "nbformat": 4,
 "nbformat_minor": 5
}
